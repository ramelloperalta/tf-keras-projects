{
  "nbformat": 4,
  "nbformat_minor": 0,
  "metadata": {
    "colab": {
      "name": "MNIST_numbersclassification.ipynb",
      "provenance": [],
      "authorship_tag": "ABX9TyPQsmU9KuyyRJI8S2a4ybR3",
      "include_colab_link": true
    },
    "kernelspec": {
      "name": "python3",
      "display_name": "Python 3"
    },
    "language_info": {
      "name": "python"
    }
  },
  "cells": [
    {
      "cell_type": "markdown",
      "metadata": {
        "id": "view-in-github",
        "colab_type": "text"
      },
      "source": [
        "<a href=\"https://colab.research.google.com/github/ramelloperalta/tf-keras-projects/blob/main/MNIST_numbersclassification.ipynb\" target=\"_parent\"><img src=\"https://colab.research.google.com/assets/colab-badge.svg\" alt=\"Open In Colab\"/></a>"
      ]
    },
    {
      "cell_type": "code",
      "metadata": {
        "colab": {
          "base_uri": "https://localhost:8080/",
          "height": 35
        },
        "id": "aOYkZRW8PsS2",
        "outputId": "ba872e44-9bb3-4c0c-d90a-d99e94f0d97c"
      },
      "source": [
        "import numpy as np\n",
        "import matplotlib.pyplot as plt\n",
        "\n",
        "import tensorflow as tf\n",
        "tf.__version__"
      ],
      "execution_count": 1,
      "outputs": [
        {
          "output_type": "execute_result",
          "data": {
            "application/vnd.google.colaboratory.intrinsic+json": {
              "type": "string"
            },
            "text/plain": [
              "'2.5.0'"
            ]
          },
          "metadata": {
            "tags": []
          },
          "execution_count": 1
        }
      ]
    },
    {
      "cell_type": "code",
      "metadata": {
        "id": "Xq9rjoirS5nt"
      },
      "source": [
        "mnist = tf.keras.datasets.mnist"
      ],
      "execution_count": 2,
      "outputs": []
    },
    {
      "cell_type": "markdown",
      "metadata": {
        "id": "3f3H11_zTku0"
      },
      "source": [
        "- 70000 images of number images 28x28\n",
        "- each image has 784 features (28x28), each representing pixel intensity from 0 to 255\n"
      ]
    },
    {
      "cell_type": "code",
      "metadata": {
        "id": "ahcdgGOYTIMj"
      },
      "source": [
        "(X_train, y_train), (X_test, y_test) = mnist.load_data()"
      ],
      "execution_count": 4,
      "outputs": []
    },
    {
      "cell_type": "code",
      "metadata": {
        "id": "SsSOiRfRUMJw"
      },
      "source": [
        "X_train[0]"
      ],
      "execution_count": null,
      "outputs": []
    },
    {
      "cell_type": "code",
      "metadata": {
        "colab": {
          "base_uri": "https://localhost:8080/",
          "height": 282
        },
        "id": "1Ok0dDPrT_7Q",
        "outputId": "e189401b-b543-47a3-d8a8-38b5ca01ad51"
      },
      "source": [
        "some_digit = X_train[0]\n",
        "sd_image = some_digit.reshape(28,28)\n",
        "plt.imshow(sd_image, cmap='binary')\n",
        "print(y_train[0])"
      ],
      "execution_count": 11,
      "outputs": [
        {
          "output_type": "stream",
          "text": [
            "5\n"
          ],
          "name": "stdout"
        },
        {
          "output_type": "display_data",
          "data": {
            "image/png": "[encoded data removed]",
            "text/plain": [
              "<Figure size 432x288 with 1 Axes>"
            ]
          },
          "metadata": {
            "tags": [],
            "needs_background": "light"
          }
        }
      ]
    },
    {
      "cell_type": "code",
      "metadata": {
        "id": "8EFON6gQU0Iv"
      },
      "source": [
        "#X_train = tf.keras.utils.normalize(X_train, axis=1)\n",
        "#X_test = tf.keras.utils.normalize(X_test, axis=1)"
      ],
      "execution_count": null,
      "outputs": []
    },
    {
      "cell_type": "markdown",
      "metadata": {
        "id": "yygLFFjRVEvY"
      },
      "source": [
        "## **Activation functions**\n"
      ]
    },
    {
      "cell_type": "code",
      "metadata": {
        "colab": {
          "base_uri": "https://localhost:8080/",
          "height": 282
        },
        "id": "conVn7TCK0o6",
        "outputId": "40c6cd01-bd43-41d7-e184-561d55ef32c2"
      },
      "source": [
        "#View of different activation functions\n",
        "def sigmoid(z):\n",
        "    return 1 / (1 + np.exp(-z))\n",
        "def relu(z):\n",
        "    return np.maximum(0, z)\n",
        "def derivative(f, z, eps=0.000001):\n",
        "    return (f(z + eps) - f(z - eps))/(2 * eps)\n",
        "\n",
        "z = np.linspace(-5, 5, 200)\n",
        "plt.figure(figsize=(11,4))\n",
        "\n",
        "plt.subplot(121)\n",
        "plt.plot(z, np.sign(z), \"r-\", linewidth=1, label=\"Step\")\n",
        "plt.plot(z, sigmoid(z), \"g--\", linewidth=2, label=\"Sigmoid\")\n",
        "plt.plot(z, np.tanh(z), \"b-\", linewidth=2, label=\"Tanh\")\n",
        "plt.plot(z, relu(z), \"m-.\", linewidth=2, label=\"ReLU\")\n",
        "plt.grid(True)\n",
        "plt.legend(loc=\"center right\", fontsize=14)\n",
        "plt.title(\"Activation functions\", fontsize=14)\n",
        "plt.axis([-5, 5, -1.2, 1.2])\n",
        "\n",
        "plt.subplot(122)\n",
        "plt.plot(z, derivative(np.sign, z), \"r-\", linewidth=1, label=\"Step\")\n",
        "plt.plot(0, 0, \"ro\", markersize=5)\n",
        "plt.plot(0, 0, \"rx\", markersize=10)\n",
        "plt.plot(z, derivative(sigmoid, z), \"g--\", linewidth=2, label=\"Sigmoid\")\n",
        "plt.plot(z, derivative(np.tanh, z), \"b-\", linewidth=2, label=\"Tanh\")\n",
        "plt.plot(z, derivative(relu, z), \"m-.\", linewidth=2, label=\"ReLU\")\n",
        "plt.grid(True)\n",
        "#plt.legend(loc=\"center right\", fontsize=14)\n",
        "plt.title(\"Derivatives\", fontsize=14)\n",
        "plt.axis([-5, 5, -0.2, 1.2])\n",
        "plt.show()"
      ],
      "execution_count": null,
      "outputs": [
        {
          "output_type": "display_data",
          "data": {
            "image/png": "[encoded data removed]",
            "text/plain": [
              "<Figure size 792x288 with 2 Axes>"
            ]
          },
          "metadata": {
            "tags": [],
            "needs_background": "light"
          }
        }
      ]
    },
    {
      "cell_type": "markdown",
      "metadata": {
        "id": "vqNNBCdKfIL9"
      },
      "source": [
        "##**Building models**\n"
      ]
    },
    {
      "cell_type": "code",
      "metadata": {
        "id": "kNd48UNOVMVh"
      },
      "source": [
        "#Input layer\n",
        "model = tf.keras.models.Sequential()\n",
        "model.add(tf.keras.layers.Flatten())\n",
        "\n",
        "model.add(tf.keras.layers.Dense(\n",
        "    64, #64 neurons\n",
        "    activation = tf.nn.relu #rectified linear activation function; default, we can tweak later to see differences\n",
        "))\n",
        "model.add(tf.keras.layers.Dense(\n",
        "    64, \n",
        "    activation = tf.nn.relu \n",
        "))\n",
        "model.add(tf.keras.layers.Dense(\n",
        "    10, \n",
        "    activation = tf.nn.softmax\n",
        "))\n",
        "\n",
        "model.compile(optimizer='adam', #default, can also use SGD\n",
        "              loss='sparse_categorical_crossentropy', #sample has multiple classes, most of them are 0(white)\n",
        "              metrics=['accuracy'])"
      ],
      "execution_count": 17,
      "outputs": []
    },
    {
      "cell_type": "markdown",
      "metadata": {
        "id": "YwBUEZeEWTeK"
      },
      "source": [
        "- Sequential most common model\n",
        "- We want to flatten for input layers\n",
        "- relu activation function outputs the input if positive, otherwise 0 \n",
        "    - max(0, Z)"
      ]
    },
    {
      "cell_type": "code",
      "metadata": {
        "colab": {
          "base_uri": "https://localhost:8080/"
        },
        "id": "8fy2ERSqZKBj",
        "outputId": "c501d5f5-9408-4998-d80a-13303352698f"
      },
      "source": [
        "model.fit(X_train, y_train, epochs=3)"
      ],
      "execution_count": 18,
      "outputs": [
        {
          "output_type": "stream",
          "text": [
            "Epoch 1/3\n",
            "1875/1875 [==============================] - 5s 2ms/step - loss: 1.4390 - accuracy: 0.8130\n",
            "Epoch 2/3\n",
            "1875/1875 [==============================] - 3s 2ms/step - loss: 0.3808 - accuracy: 0.9042\n",
            "Epoch 3/3\n",
            "1875/1875 [==============================] - 4s 2ms/step - loss: 0.3177 - accuracy: 0.9205\n"
          ],
          "name": "stdout"
        },
        {
          "output_type": "execute_result",
          "data": {
            "text/plain": [
              "<tensorflow.python.keras.callbacks.History at 0x7f0a05b979d0>"
            ]
          },
          "metadata": {
            "tags": []
          },
          "execution_count": 18
        }
      ]
    },
    {
      "cell_type": "code",
      "metadata": {
        "colab": {
          "base_uri": "https://localhost:8080/"
        },
        "id": "i3i34XN_cJyC",
        "outputId": "60c19468-ee14-4d7b-f27e-9b5d55f07f14"
      },
      "source": [
        "val_loss, val_acc = model.evaluate(X_test, y_test)\n",
        "print(val_loss, val_acc)"
      ],
      "execution_count": 20,
      "outputs": [
        {
          "output_type": "stream",
          "text": [
            "313/313 [==============================] - 1s 1ms/step - loss: 0.3388 - accuracy: 0.9243\n",
            "0.3387833535671234 0.9243000149726868\n"
          ],
          "name": "stdout"
        }
      ]
    },
    {
      "cell_type": "markdown",
      "metadata": {
        "id": "SuHPuzSoc0qy"
      },
      "source": [
        "##**normalized training set**"
      ]
    },
    {
      "cell_type": "code",
      "metadata": {
        "id": "6KwMkLhldKP_"
      },
      "source": [
        "X_train = tf.keras.utils.normalize(X_train, axis=1)\n",
        "X_test = tf.keras.utils.normalize(X_test, axis=1)"
      ],
      "execution_count": 21,
      "outputs": []
    },
    {
      "cell_type": "code",
      "metadata": {
        "colab": {
          "base_uri": "https://localhost:8080/"
        },
        "id": "5ZJ6hWG_c6RT",
        "outputId": "9ce616f9-5240-4d5c-85b0-64f48d5a2ea5"
      },
      "source": [
        "model2 = tf.keras.models.Sequential()\n",
        "model2.add(tf.keras.layers.Flatten())\n",
        "\n",
        "model2.add(tf.keras.layers.Dense(\n",
        "    64, \n",
        "    activation = tf.nn.relu \n",
        "))\n",
        "model2.add(tf.keras.layers.Dense(\n",
        "    64, \n",
        "    activation = tf.nn.relu \n",
        "))\n",
        "model2.add(tf.keras.layers.Dense(\n",
        "    10, \n",
        "    activation = tf.nn.softmax\n",
        "))\n",
        "\n",
        "model2.compile(optimizer='adam', #default, can also use SGD\n",
        "              loss='sparse_categorical_crossentropy',\n",
        "              metrics=['accuracy'])\n",
        "\n",
        "model2.fit(X_train, y_train, epochs=3)\n",
        "\n",
        "val_loss, val_acc = model2.evaluate(X_test, y_test)\n",
        "print(val_loss, val_acc)\n",
        "#Better accuracy than before normalization"
      ],
      "execution_count": 22,
      "outputs": [
        {
          "output_type": "stream",
          "text": [
            "Epoch 1/3\n",
            "1875/1875 [==============================] - 4s 2ms/step - loss: 0.3130 - accuracy: 0.9109\n",
            "Epoch 2/3\n",
            "1875/1875 [==============================] - 3s 2ms/step - loss: 0.1450 - accuracy: 0.9554\n",
            "Epoch 3/3\n",
            "1875/1875 [==============================] - 4s 2ms/step - loss: 0.1040 - accuracy: 0.9679\n",
            "313/313 [==============================] - 1s 1ms/step - loss: 0.1078 - accuracy: 0.9665\n",
            "0.10781510919332504 0.9664999842643738\n"
          ],
          "name": "stdout"
        }
      ]
    },
    {
      "cell_type": "markdown",
      "metadata": {
        "id": "4Qja6D2idzH2"
      },
      "source": [
        "##**Increasing neurons**"
      ]
    },
    {
      "cell_type": "code",
      "metadata": {
        "colab": {
          "base_uri": "https://localhost:8080/"
        },
        "id": "PZ-Mt1Z2eNar",
        "outputId": "782a5135-4112-4cae-bc1b-a0f8631dcb34"
      },
      "source": [
        "model3 = tf.keras.models.Sequential()\n",
        "model3.add(tf.keras.layers.Flatten())\n",
        "\n",
        "model3.add(tf.keras.layers.Dense(\n",
        "    128, \n",
        "    activation = tf.nn.relu \n",
        "))\n",
        "model3.add(tf.keras.layers.Dense(\n",
        "    128, \n",
        "    activation = tf.nn.relu \n",
        "))\n",
        "model3.add(tf.keras.layers.Dense(\n",
        "    10, \n",
        "    activation = tf.nn.softmax\n",
        "))\n",
        "\n",
        "model3.compile(optimizer='adam', \n",
        "              loss='sparse_categorical_crossentropy', \n",
        "              metrics=['accuracy'])\n",
        "\n",
        "model3.fit(X_train, y_train, epochs=30)\n",
        "\n",
        "val_loss, val_acc = model3.evaluate(X_test, y_test)\n",
        "print(val_loss, val_acc)"
      ],
      "execution_count": 23,
      "outputs": [
        {
          "output_type": "stream",
          "text": [
            "Epoch 1/3\n",
            "1875/1875 [==============================] - 5s 2ms/step - loss: 0.2541 - accuracy: 0.9269\n",
            "Epoch 2/3\n",
            "1875/1875 [==============================] - 4s 2ms/step - loss: 0.1029 - accuracy: 0.9676\n",
            "Epoch 3/3\n",
            "1875/1875 [==============================] - 5s 2ms/step - loss: 0.0710 - accuracy: 0.9772\n",
            "313/313 [==============================] - 1s 1ms/step - loss: 0.0989 - accuracy: 0.9684\n",
            "0.09892448782920837 0.9684000015258789\n"
          ],
          "name": "stdout"
        }
      ]
    },
    {
      "cell_type": "markdown",
      "metadata": {
        "id": "eKLq8u4rfNqR"
      },
      "source": [
        "##**SGD optimizer**"
      ]
    },
    {
      "cell_type": "code",
      "metadata": {
        "colab": {
          "base_uri": "https://localhost:8080/"
        },
        "id": "pws943I6fP7r",
        "outputId": "0bc5c3cd-f76c-48c3-8fdc-646813274505"
      },
      "source": [
        "model4 = tf.keras.models.Sequential()\n",
        "model4.add(tf.keras.layers.Flatten())\n",
        "\n",
        "model4.add(tf.keras.layers.Dense(\n",
        "    128, \n",
        "    activation = tf.nn.relu \n",
        "))\n",
        "model4.add(tf.keras.layers.Dense(\n",
        "    128, \n",
        "    activation = tf.nn.relu \n",
        "))\n",
        "model4.add(tf.keras.layers.Dense(\n",
        "    10, \n",
        "    activation = tf.nn.softmax\n",
        "))\n",
        "\n",
        "opt = tf.keras.optimizers.SGD(learning_rate=0.2)\n",
        "\n",
        "model4.compile(optimizer=opt, \n",
        "              loss='sparse_categorical_crossentropy', \n",
        "              metrics=['accuracy'])\n",
        "model4.fit(X_train, y_train, epochs=10)\n",
        "\n",
        "val_loss, val_acc = model4.evaluate(X_test, y_test)\n",
        "print(val_loss, val_acc)"
      ],
      "execution_count": 25,
      "outputs": [
        {
          "output_type": "stream",
          "text": [
            "Epoch 1/10\n",
            "1875/1875 [==============================] - 4s 2ms/step - loss: 0.2873 - accuracy: 0.9145\n",
            "Epoch 2/10\n",
            "1875/1875 [==============================] - 4s 2ms/step - loss: 0.1181 - accuracy: 0.9641\n",
            "Epoch 3/10\n",
            "1875/1875 [==============================] - 4s 2ms/step - loss: 0.0818 - accuracy: 0.9747\n",
            "Epoch 4/10\n",
            "1875/1875 [==============================] - 4s 2ms/step - loss: 0.0617 - accuracy: 0.9804\n",
            "Epoch 5/10\n",
            "1875/1875 [==============================] - 4s 2ms/step - loss: 0.0476 - accuracy: 0.9853\n",
            "Epoch 6/10\n",
            "1875/1875 [==============================] - 4s 2ms/step - loss: 0.0364 - accuracy: 0.9884\n",
            "Epoch 7/10\n",
            "1875/1875 [==============================] - 4s 2ms/step - loss: 0.0288 - accuracy: 0.9911\n",
            "Epoch 8/10\n",
            "1875/1875 [==============================] - 4s 2ms/step - loss: 0.0217 - accuracy: 0.9931\n",
            "Epoch 9/10\n",
            "1875/1875 [==============================] - 4s 2ms/step - loss: 0.0177 - accuracy: 0.9945\n",
            "Epoch 10/10\n",
            "1875/1875 [==============================] - 4s 2ms/step - loss: 0.0131 - accuracy: 0.9960\n",
            "313/313 [==============================] - 1s 1ms/step - loss: 0.0953 - accuracy: 0.9756\n",
            "0.09527944028377533 0.975600004196167\n"
          ],
          "name": "stdout"
        }
      ]
    },
    {
      "cell_type": "code",
      "metadata": {
        "id": "5zD54VrKkhKy"
      },
      "source": [
        "predictions = model4.predict([X_test])"
      ],
      "execution_count": 30,
      "outputs": []
    },
    {
      "cell_type": "code",
      "metadata": {
        "colab": {
          "base_uri": "https://localhost:8080/"
        },
        "id": "aV3VGwoAksf8",
        "outputId": "79d3e2bd-72bd-4f2c-e84a-9b870afefdbb"
      },
      "source": [
        "print(np.argmax(predictions[0]))"
      ],
      "execution_count": 27,
      "outputs": [
        {
          "output_type": "stream",
          "text": [
            "7\n"
          ],
          "name": "stdout"
        }
      ]
    },
    {
      "cell_type": "code",
      "metadata": {
        "colab": {
          "base_uri": "https://localhost:8080/",
          "height": 282
        },
        "id": "x_VvVydZkwT8",
        "outputId": "ca52118c-1d8d-4959-816f-ef1913e4b7b7"
      },
      "source": [
        "plt.imshow(X_test[0], cmap='binary')"
      ],
      "execution_count": 29,
      "outputs": [
        {
          "output_type": "execute_result",
          "data": {
            "text/plain": [
              "<matplotlib.image.AxesImage at 0x7f09fa92a490>"
            ]
          },
          "metadata": {
            "tags": []
          },
          "execution_count": 29
        },
        {
          "output_type": "display_data",
          "data": {
            "image/png": "[encoded data removed]",
            "text/plain": [
              "<Figure size 432x288 with 1 Axes>"
            ]
          },
          "metadata": {
            "tags": [],
            "needs_background": "light"
          }
        }
      ]
    }
  ]
}